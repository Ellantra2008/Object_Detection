{
  "nbformat": 4,
  "nbformat_minor": 0,
  "metadata": {
    "colab": {
      "provenance": [],
      "collapsed_sections": [],
      "authorship_tag": "ABX9TyNXXm/GNikmAc59rlAnExGq",
      "include_colab_link": true
    },
    "kernelspec": {
      "name": "python3",
      "display_name": "Python 3"
    },
    "language_info": {
      "name": "python"
    }
  },
  "cells": [
    {
      "cell_type": "markdown",
      "metadata": {
        "id": "view-in-github",
        "colab_type": "text"
      },
      "source": [
        "<a href=\"https://colab.research.google.com/github/Ellantra2008/Object_Detection/blob/main/New_detector.ipynb\" target=\"_parent\"><img src=\"https://colab.research.google.com/assets/colab-badge.svg\" alt=\"Open In Colab\"/></a>"
      ]
    },
    {
      "cell_type": "code",
      "execution_count": 1,
      "metadata": {
        "colab": {
          "base_uri": "https://localhost:8080/"
        },
        "id": "tx2hbwtsY6ls",
        "outputId": "b267a6c2-8c83-4d61-8665-05971b839f60"
      },
      "outputs": [
        {
          "output_type": "stream",
          "name": "stdout",
          "text": [
            "\u001b[K     |████████████████████████████████| 577 kB 8.7 MB/s \n",
            "\u001b[K     |████████████████████████████████| 1.3 MB 54.0 MB/s \n",
            "\u001b[K     |████████████████████████████████| 87 kB 6.4 MB/s \n",
            "\u001b[K     |████████████████████████████████| 3.4 MB 40.2 MB/s \n",
            "\u001b[K     |████████████████████████████████| 238 kB 42.5 MB/s \n",
            "\u001b[K     |████████████████████████████████| 77 kB 5.0 MB/s \n",
            "\u001b[K     |████████████████████████████████| 60.2 MB 1.2 MB/s \n",
            "\u001b[K     |████████████████████████████████| 10.9 MB 28.2 MB/s \n",
            "\u001b[K     |████████████████████████████████| 128 kB 54.4 MB/s \n",
            "\u001b[K     |████████████████████████████████| 1.1 MB 49.1 MB/s \n",
            "\u001b[K     |████████████████████████████████| 840 kB 40.4 MB/s \n",
            "\u001b[K     |████████████████████████████████| 25.3 MB 1.1 MB/s \n",
            "\u001b[K     |████████████████████████████████| 497.9 MB 27 kB/s \n",
            "\u001b[K     |████████████████████████████████| 352 kB 49.5 MB/s \n",
            "\u001b[K     |████████████████████████████████| 99 kB 8.3 MB/s \n",
            "\u001b[K     |████████████████████████████████| 462 kB 50.9 MB/s \n",
            "\u001b[K     |████████████████████████████████| 1.4 MB 52.0 MB/s \n",
            "\u001b[K     |████████████████████████████████| 5.8 MB 51.4 MB/s \n",
            "\u001b[K     |████████████████████████████████| 40 kB 4.1 MB/s \n",
            "\u001b[K     |████████████████████████████████| 213 kB 53.7 MB/s \n",
            "\u001b[K     |████████████████████████████████| 1.1 MB 54.2 MB/s \n",
            "\u001b[?25h  Building wheel for fire (setup.py) ... \u001b[?25l\u001b[?25hdone\n",
            "  Building wheel for py-cpuinfo (setup.py) ... \u001b[?25l\u001b[?25hdone\n"
          ]
        }
      ],
      "source": [
        "!pip install -q tflite-model-maker\n",
        "!pip install -q tflite-support"
      ]
    },
    {
      "cell_type": "markdown",
      "source": [
        "Import Libararies"
      ],
      "metadata": {
        "id": "KsMGFz8YZElL"
      }
    },
    {
      "cell_type": "markdown",
      "source": [
        "Initializing the model_maker configuration"
      ],
      "metadata": {
        "id": "IKj3jH5cZU_Z"
      }
    },
    {
      "cell_type": "code",
      "source": [
        "import numpy as np\n",
        "import os\n",
        "\n",
        "from tflite_model_maker.config import ExportFormat, QuantizationConfig\n",
        "from tflite_model_maker import model_spec\n",
        "from tflite_model_maker import object_detector\n",
        "\n",
        "from tflite_support import metadata\n",
        "\n",
        "import tensorflow as tf\n",
        "assert tf.__version__.startswith('2')\n",
        "\n",
        "tf.get_logger().setLevel('ERROR')\n",
        "from absl import logging\n",
        "logging.set_verbosity(logging.ERROR)"
      ],
      "metadata": {
        "id": "Vr6Josp4ZBKy"
      },
      "execution_count": 2,
      "outputs": []
    },
    {
      "cell_type": "markdown",
      "source": [
        "Preparing and Training the dadatset"
      ],
      "metadata": {
        "id": "7qEwlEzRZk2W"
      }
    },
    {
      "cell_type": "code",
      "source": [
        "train_data = object_detector.DataLoader.from_pascal_voc(\n",
        "    'Dataset/train',\n",
        "    'Dataset/train',\n",
        "    ['Job', 'Watch']\n",
        ")\n",
        "\n",
        "val_data = object_detector.DataLoader.from_pascal_voc(\n",
        "    'Dataset/validate',\n",
        "    'Dataset/validate',\n",
        "    ['Job', 'Watch']\n",
        ")"
      ],
      "metadata": {
        "id": "zbHROXODZBNf"
      },
      "execution_count": 75,
      "outputs": []
    },
    {
      "cell_type": "markdown",
      "source": [
        "Selecting the model structure according to its presition output"
      ],
      "metadata": {
        "id": "C169bfkJbzio"
      }
    },
    {
      "cell_type": "code",
      "source": [
        "spec = model_spec.get('efficientdet_lite1')"
      ],
      "metadata": {
        "id": "Yc9AfrZXZBP_"
      },
      "execution_count": 18,
      "outputs": []
    },
    {
      "cell_type": "markdown",
      "source": [
        "**Train the TensorFlow model with the training data.**\n",
        "\n",
        "Set epochs = 20, which means it will go through the training dataset 20 times. \n",
        "\n",
        "You can look at the validation accuracy during training and stop when you see validation loss (val_loss) stop decreasing to avoid overfitting.\n",
        "\n",
        "Set batch_size = 4 here so you will see that it takes 15 steps to go through the 62 images in the training dataset."
      ],
      "metadata": {
        "id": "6uMibXxFcMDr"
      }
    },
    {
      "cell_type": "code",
      "source": [],
      "metadata": {
        "id": "VIFU0HerhTPZ"
      },
      "execution_count": null,
      "outputs": []
    },
    {
      "cell_type": "code",
      "source": [
        "model = object_detector.create(train_data, model_spec=spec, batch_size=4, train_whole_model=True, epochs=50, validation_data=val_data)"
      ],
      "metadata": {
        "colab": {
          "base_uri": "https://localhost:8080/"
        },
        "id": "ZpdRaXh4ZBSt",
        "outputId": "8f24eb4c-b540-48ea-e56c-ef464ee31bb5"
      },
      "execution_count": 77,
      "outputs": [
        {
          "output_type": "stream",
          "name": "stdout",
          "text": [
            "Epoch 1/50\n",
            "4/4 [==============================] - 87s 11s/step - det_loss: 1.8313 - cls_loss: 1.1522 - box_loss: 0.0136 - reg_l2_loss: 0.0706 - loss: 1.9019 - learning_rate: 0.0067 - gradient_norm: 3.0844 - val_det_loss: 1.7597 - val_cls_loss: 1.1588 - val_box_loss: 0.0120 - val_reg_l2_loss: 0.0706 - val_loss: 1.8303\n",
            "Epoch 2/50\n",
            "4/4 [==============================] - 31s 9s/step - det_loss: 1.7640 - cls_loss: 1.1322 - box_loss: 0.0126 - reg_l2_loss: 0.0706 - loss: 1.8346 - learning_rate: 0.0050 - gradient_norm: 2.7149 - val_det_loss: 1.7264 - val_cls_loss: 1.1382 - val_box_loss: 0.0118 - val_reg_l2_loss: 0.0706 - val_loss: 1.7969\n",
            "Epoch 3/50\n",
            "4/4 [==============================] - 30s 9s/step - det_loss: 1.7024 - cls_loss: 1.1214 - box_loss: 0.0116 - reg_l2_loss: 0.0706 - loss: 1.7730 - learning_rate: 0.0050 - gradient_norm: 3.7070 - val_det_loss: 1.6909 - val_cls_loss: 1.1188 - val_box_loss: 0.0114 - val_reg_l2_loss: 0.0706 - val_loss: 1.7614\n",
            "Epoch 4/50\n",
            "4/4 [==============================] - 37s 11s/step - det_loss: 1.7136 - cls_loss: 1.1072 - box_loss: 0.0121 - reg_l2_loss: 0.0706 - loss: 1.7842 - learning_rate: 0.0049 - gradient_norm: 2.6139 - val_det_loss: 1.6570 - val_cls_loss: 1.0955 - val_box_loss: 0.0112 - val_reg_l2_loss: 0.0706 - val_loss: 1.7276\n",
            "Epoch 5/50\n",
            "4/4 [==============================] - 41s 12s/step - det_loss: 1.6840 - cls_loss: 1.0869 - box_loss: 0.0119 - reg_l2_loss: 0.0706 - loss: 1.7546 - learning_rate: 0.0049 - gradient_norm: 2.1973 - val_det_loss: 1.6142 - val_cls_loss: 1.0650 - val_box_loss: 0.0110 - val_reg_l2_loss: 0.0706 - val_loss: 1.6848\n",
            "Epoch 6/50\n",
            "4/4 [==============================] - 30s 9s/step - det_loss: 1.6636 - cls_loss: 1.0707 - box_loss: 0.0119 - reg_l2_loss: 0.0706 - loss: 1.7342 - learning_rate: 0.0048 - gradient_norm: 2.5690 - val_det_loss: 1.5629 - val_cls_loss: 1.0361 - val_box_loss: 0.0105 - val_reg_l2_loss: 0.0706 - val_loss: 1.6334\n",
            "Epoch 7/50\n",
            "4/4 [==============================] - 25s 7s/step - det_loss: 1.5772 - cls_loss: 1.0449 - box_loss: 0.0106 - reg_l2_loss: 0.0706 - loss: 1.6478 - learning_rate: 0.0048 - gradient_norm: 2.9602 - val_det_loss: 1.5204 - val_cls_loss: 1.0057 - val_box_loss: 0.0103 - val_reg_l2_loss: 0.0706 - val_loss: 1.5910\n",
            "Epoch 8/50\n",
            "4/4 [==============================] - 33s 9s/step - det_loss: 1.5256 - cls_loss: 1.0094 - box_loss: 0.0103 - reg_l2_loss: 0.0706 - loss: 1.5962 - learning_rate: 0.0047 - gradient_norm: 3.4663 - val_det_loss: 1.4842 - val_cls_loss: 0.9626 - val_box_loss: 0.0104 - val_reg_l2_loss: 0.0706 - val_loss: 1.5548\n",
            "Epoch 9/50\n",
            "4/4 [==============================] - 30s 8s/step - det_loss: 1.5798 - cls_loss: 1.0268 - box_loss: 0.0111 - reg_l2_loss: 0.0706 - loss: 1.6504 - learning_rate: 0.0046 - gradient_norm: 2.6734 - val_det_loss: 1.4231 - val_cls_loss: 0.9007 - val_box_loss: 0.0104 - val_reg_l2_loss: 0.0706 - val_loss: 1.4937\n",
            "Epoch 10/50\n",
            "4/4 [==============================] - 37s 11s/step - det_loss: 1.4441 - cls_loss: 0.9574 - box_loss: 0.0097 - reg_l2_loss: 0.0706 - loss: 1.5147 - learning_rate: 0.0046 - gradient_norm: 3.7784 - val_det_loss: 1.3583 - val_cls_loss: 0.8390 - val_box_loss: 0.0104 - val_reg_l2_loss: 0.0706 - val_loss: 1.4289\n",
            "Epoch 11/50\n",
            "4/4 [==============================] - 29s 8s/step - det_loss: 1.3694 - cls_loss: 0.9043 - box_loss: 0.0093 - reg_l2_loss: 0.0706 - loss: 1.4400 - learning_rate: 0.0045 - gradient_norm: 3.4851 - val_det_loss: 1.3042 - val_cls_loss: 0.7828 - val_box_loss: 0.0104 - val_reg_l2_loss: 0.0706 - val_loss: 1.3748\n",
            "Epoch 12/50\n",
            "4/4 [==============================] - 31s 9s/step - det_loss: 1.3540 - cls_loss: 0.8760 - box_loss: 0.0096 - reg_l2_loss: 0.0706 - loss: 1.4246 - learning_rate: 0.0044 - gradient_norm: 2.9929 - val_det_loss: 1.2426 - val_cls_loss: 0.7396 - val_box_loss: 0.0101 - val_reg_l2_loss: 0.0706 - val_loss: 1.3132\n",
            "Epoch 13/50\n",
            "4/4 [==============================] - 30s 8s/step - det_loss: 1.3478 - cls_loss: 0.9231 - box_loss: 0.0085 - reg_l2_loss: 0.0706 - loss: 1.4184 - learning_rate: 0.0042 - gradient_norm: 4.0703 - val_det_loss: 1.1668 - val_cls_loss: 0.6863 - val_box_loss: 0.0096 - val_reg_l2_loss: 0.0706 - val_loss: 1.2374\n",
            "Epoch 14/50\n",
            "4/4 [==============================] - 30s 9s/step - det_loss: 1.2624 - cls_loss: 0.7999 - box_loss: 0.0092 - reg_l2_loss: 0.0706 - loss: 1.3330 - learning_rate: 0.0041 - gradient_norm: 4.7417 - val_det_loss: 1.1067 - val_cls_loss: 0.6527 - val_box_loss: 0.0091 - val_reg_l2_loss: 0.0706 - val_loss: 1.1773\n",
            "Epoch 15/50\n",
            "4/4 [==============================] - 43s 13s/step - det_loss: 1.2774 - cls_loss: 0.8375 - box_loss: 0.0088 - reg_l2_loss: 0.0706 - loss: 1.3480 - learning_rate: 0.0040 - gradient_norm: 3.7194 - val_det_loss: 1.0593 - val_cls_loss: 0.6232 - val_box_loss: 0.0087 - val_reg_l2_loss: 0.0706 - val_loss: 1.1299\n",
            "Epoch 16/50\n",
            "4/4 [==============================] - 30s 9s/step - det_loss: 1.1085 - cls_loss: 0.7424 - box_loss: 0.0073 - reg_l2_loss: 0.0706 - loss: 1.1791 - learning_rate: 0.0039 - gradient_norm: 4.4870 - val_det_loss: 1.0146 - val_cls_loss: 0.5882 - val_box_loss: 0.0085 - val_reg_l2_loss: 0.0706 - val_loss: 1.0853\n",
            "Epoch 17/50\n",
            "4/4 [==============================] - 30s 9s/step - det_loss: 1.0650 - cls_loss: 0.6882 - box_loss: 0.0075 - reg_l2_loss: 0.0706 - loss: 1.1356 - learning_rate: 0.0037 - gradient_norm: 3.3328 - val_det_loss: 0.9597 - val_cls_loss: 0.5486 - val_box_loss: 0.0082 - val_reg_l2_loss: 0.0706 - val_loss: 1.0303\n",
            "Epoch 18/50\n",
            "4/4 [==============================] - 30s 8s/step - det_loss: 1.0795 - cls_loss: 0.7020 - box_loss: 0.0075 - reg_l2_loss: 0.0706 - loss: 1.1501 - learning_rate: 0.0036 - gradient_norm: 4.2993 - val_det_loss: 0.9242 - val_cls_loss: 0.5242 - val_box_loss: 0.0080 - val_reg_l2_loss: 0.0706 - val_loss: 0.9948\n",
            "Epoch 19/50\n",
            "4/4 [==============================] - 30s 9s/step - det_loss: 1.0461 - cls_loss: 0.6843 - box_loss: 0.0072 - reg_l2_loss: 0.0706 - loss: 1.1168 - learning_rate: 0.0034 - gradient_norm: 4.5012 - val_det_loss: 0.9248 - val_cls_loss: 0.5238 - val_box_loss: 0.0080 - val_reg_l2_loss: 0.0706 - val_loss: 0.9954\n",
            "Epoch 20/50\n",
            "4/4 [==============================] - 36s 11s/step - det_loss: 1.0539 - cls_loss: 0.6992 - box_loss: 0.0071 - reg_l2_loss: 0.0706 - loss: 1.1245 - learning_rate: 0.0033 - gradient_norm: 4.7770 - val_det_loss: 0.9609 - val_cls_loss: 0.5601 - val_box_loss: 0.0080 - val_reg_l2_loss: 0.0706 - val_loss: 1.0315\n",
            "Epoch 21/50\n",
            "4/4 [==============================] - 33s 9s/step - det_loss: 0.9837 - cls_loss: 0.6160 - box_loss: 0.0074 - reg_l2_loss: 0.0706 - loss: 1.0543 - learning_rate: 0.0031 - gradient_norm: 4.5757 - val_det_loss: 0.9557 - val_cls_loss: 0.5754 - val_box_loss: 0.0076 - val_reg_l2_loss: 0.0706 - val_loss: 1.0263\n",
            "Epoch 22/50\n",
            "4/4 [==============================] - 30s 9s/step - det_loss: 1.0068 - cls_loss: 0.6390 - box_loss: 0.0074 - reg_l2_loss: 0.0706 - loss: 1.0775 - learning_rate: 0.0030 - gradient_norm: 5.2842 - val_det_loss: 0.9338 - val_cls_loss: 0.5667 - val_box_loss: 0.0073 - val_reg_l2_loss: 0.0706 - val_loss: 1.0044\n",
            "Epoch 23/50\n",
            "4/4 [==============================] - 30s 9s/step - det_loss: 0.8838 - cls_loss: 0.5695 - box_loss: 0.0063 - reg_l2_loss: 0.0706 - loss: 0.9545 - learning_rate: 0.0028 - gradient_norm: 4.5608 - val_det_loss: 0.9063 - val_cls_loss: 0.5332 - val_box_loss: 0.0075 - val_reg_l2_loss: 0.0706 - val_loss: 0.9770\n",
            "Epoch 24/50\n",
            "4/4 [==============================] - 29s 8s/step - det_loss: 0.8717 - cls_loss: 0.5673 - box_loss: 0.0061 - reg_l2_loss: 0.0706 - loss: 0.9423 - learning_rate: 0.0027 - gradient_norm: 4.6609 - val_det_loss: 0.9048 - val_cls_loss: 0.5181 - val_box_loss: 0.0077 - val_reg_l2_loss: 0.0706 - val_loss: 0.9754\n",
            "Epoch 25/50\n",
            "4/4 [==============================] - 41s 12s/step - det_loss: 0.8572 - cls_loss: 0.5420 - box_loss: 0.0063 - reg_l2_loss: 0.0706 - loss: 0.9279 - learning_rate: 0.0025 - gradient_norm: 3.3526 - val_det_loss: 0.8895 - val_cls_loss: 0.4980 - val_box_loss: 0.0078 - val_reg_l2_loss: 0.0706 - val_loss: 0.9602\n",
            "Epoch 26/50\n",
            "4/4 [==============================] - 30s 8s/step - det_loss: 0.8679 - cls_loss: 0.5251 - box_loss: 0.0069 - reg_l2_loss: 0.0706 - loss: 0.9385 - learning_rate: 0.0023 - gradient_norm: 3.6147 - val_det_loss: 0.8972 - val_cls_loss: 0.5014 - val_box_loss: 0.0079 - val_reg_l2_loss: 0.0706 - val_loss: 0.9679\n",
            "Epoch 27/50\n",
            "4/4 [==============================] - 27s 8s/step - det_loss: 0.8467 - cls_loss: 0.5740 - box_loss: 0.0055 - reg_l2_loss: 0.0706 - loss: 0.9173 - learning_rate: 0.0022 - gradient_norm: 3.4903 - val_det_loss: 0.9183 - val_cls_loss: 0.5110 - val_box_loss: 0.0081 - val_reg_l2_loss: 0.0706 - val_loss: 0.9890\n",
            "Epoch 28/50\n",
            "4/4 [==============================] - 30s 9s/step - det_loss: 0.8073 - cls_loss: 0.5142 - box_loss: 0.0059 - reg_l2_loss: 0.0707 - loss: 0.8779 - learning_rate: 0.0020 - gradient_norm: 3.3056 - val_det_loss: 0.9159 - val_cls_loss: 0.5055 - val_box_loss: 0.0082 - val_reg_l2_loss: 0.0707 - val_loss: 0.9865\n",
            "Epoch 29/50\n",
            "4/4 [==============================] - 31s 9s/step - det_loss: 0.9362 - cls_loss: 0.5953 - box_loss: 0.0068 - reg_l2_loss: 0.0707 - loss: 1.0069 - learning_rate: 0.0019 - gradient_norm: 6.8042 - val_det_loss: 0.9001 - val_cls_loss: 0.5052 - val_box_loss: 0.0079 - val_reg_l2_loss: 0.0707 - val_loss: 0.9707\n",
            "Epoch 30/50\n",
            "4/4 [==============================] - 42s 12s/step - det_loss: 0.9256 - cls_loss: 0.5917 - box_loss: 0.0067 - reg_l2_loss: 0.0707 - loss: 0.9962 - learning_rate: 0.0017 - gradient_norm: 5.7928 - val_det_loss: 0.8816 - val_cls_loss: 0.5050 - val_box_loss: 0.0075 - val_reg_l2_loss: 0.0707 - val_loss: 0.9523\n",
            "Epoch 31/50\n",
            "4/4 [==============================] - 30s 9s/step - det_loss: 0.8250 - cls_loss: 0.5331 - box_loss: 0.0058 - reg_l2_loss: 0.0707 - loss: 0.8956 - learning_rate: 0.0016 - gradient_norm: 4.1329 - val_det_loss: 0.8504 - val_cls_loss: 0.5043 - val_box_loss: 0.0069 - val_reg_l2_loss: 0.0707 - val_loss: 0.9211\n",
            "Epoch 32/50\n",
            "4/4 [==============================] - 29s 8s/step - det_loss: 0.7932 - cls_loss: 0.4938 - box_loss: 0.0060 - reg_l2_loss: 0.0707 - loss: 0.8638 - learning_rate: 0.0014 - gradient_norm: 4.4722 - val_det_loss: 0.8372 - val_cls_loss: 0.5116 - val_box_loss: 0.0065 - val_reg_l2_loss: 0.0707 - val_loss: 0.9079\n",
            "Epoch 33/50\n",
            "4/4 [==============================] - 30s 9s/step - det_loss: 0.8153 - cls_loss: 0.5166 - box_loss: 0.0060 - reg_l2_loss: 0.0707 - loss: 0.8860 - learning_rate: 0.0013 - gradient_norm: 3.3909 - val_det_loss: 0.8487 - val_cls_loss: 0.5224 - val_box_loss: 0.0065 - val_reg_l2_loss: 0.0707 - val_loss: 0.9193\n",
            "Epoch 34/50\n",
            "4/4 [==============================] - 33s 9s/step - det_loss: 0.7606 - cls_loss: 0.4627 - box_loss: 0.0060 - reg_l2_loss: 0.0707 - loss: 0.8313 - learning_rate: 0.0011 - gradient_norm: 3.0756 - val_det_loss: 0.8532 - val_cls_loss: 0.5257 - val_box_loss: 0.0066 - val_reg_l2_loss: 0.0707 - val_loss: 0.9239\n",
            "Epoch 35/50\n",
            "4/4 [==============================] - 36s 10s/step - det_loss: 0.8025 - cls_loss: 0.5280 - box_loss: 0.0055 - reg_l2_loss: 0.0707 - loss: 0.8732 - learning_rate: 0.0010 - gradient_norm: 3.0666 - val_det_loss: 0.8546 - val_cls_loss: 0.5253 - val_box_loss: 0.0066 - val_reg_l2_loss: 0.0707 - val_loss: 0.9253\n",
            "Epoch 36/50\n",
            "4/4 [==============================] - 30s 9s/step - det_loss: 0.7709 - cls_loss: 0.5183 - box_loss: 0.0051 - reg_l2_loss: 0.0707 - loss: 0.8416 - learning_rate: 8.8582e-04 - gradient_norm: 4.1736 - val_det_loss: 0.8649 - val_cls_loss: 0.5243 - val_box_loss: 0.0068 - val_reg_l2_loss: 0.0707 - val_loss: 0.9356\n",
            "Epoch 37/50\n",
            "4/4 [==============================] - 30s 9s/step - det_loss: 0.8120 - cls_loss: 0.5217 - box_loss: 0.0058 - reg_l2_loss: 0.0707 - loss: 0.8826 - learning_rate: 7.6686e-04 - gradient_norm: 5.8210 - val_det_loss: 0.8532 - val_cls_loss: 0.5230 - val_box_loss: 0.0066 - val_reg_l2_loss: 0.0707 - val_loss: 0.9238\n",
            "Epoch 38/50\n",
            "4/4 [==============================] - 32s 9s/step - det_loss: 0.7275 - cls_loss: 0.4773 - box_loss: 0.0050 - reg_l2_loss: 0.0707 - loss: 0.7981 - learning_rate: 6.5502e-04 - gradient_norm: 4.7565 - val_det_loss: 0.8509 - val_cls_loss: 0.5207 - val_box_loss: 0.0066 - val_reg_l2_loss: 0.0707 - val_loss: 0.9216\n",
            "Epoch 39/50\n",
            "4/4 [==============================] - 32s 9s/step - det_loss: 0.7367 - cls_loss: 0.4592 - box_loss: 0.0055 - reg_l2_loss: 0.0707 - loss: 0.8073 - learning_rate: 5.5077e-04 - gradient_norm: 6.0241 - val_det_loss: 0.8597 - val_cls_loss: 0.5209 - val_box_loss: 0.0068 - val_reg_l2_loss: 0.0707 - val_loss: 0.9304\n",
            "Epoch 40/50\n",
            "4/4 [==============================] - 40s 12s/step - det_loss: 0.7072 - cls_loss: 0.4574 - box_loss: 0.0050 - reg_l2_loss: 0.0707 - loss: 0.7779 - learning_rate: 4.5452e-04 - gradient_norm: 4.2526 - val_det_loss: 0.8456 - val_cls_loss: 0.5111 - val_box_loss: 0.0067 - val_reg_l2_loss: 0.0707 - val_loss: 0.9162\n",
            "Epoch 41/50\n",
            "4/4 [==============================] - 30s 8s/step - det_loss: 0.8779 - cls_loss: 0.5791 - box_loss: 0.0060 - reg_l2_loss: 0.0707 - loss: 0.9486 - learning_rate: 3.6668e-04 - gradient_norm: 5.6987 - val_det_loss: 0.8358 - val_cls_loss: 0.5042 - val_box_loss: 0.0066 - val_reg_l2_loss: 0.0707 - val_loss: 0.9064\n",
            "Epoch 42/50\n",
            "4/4 [==============================] - 34s 10s/step - det_loss: 0.7553 - cls_loss: 0.4818 - box_loss: 0.0055 - reg_l2_loss: 0.0707 - loss: 0.8259 - learning_rate: 2.8761e-04 - gradient_norm: 4.9126 - val_det_loss: 0.8144 - val_cls_loss: 0.4949 - val_box_loss: 0.0064 - val_reg_l2_loss: 0.0707 - val_loss: 0.8851\n",
            "Epoch 43/50\n",
            "4/4 [==============================] - 29s 8s/step - det_loss: 0.7017 - cls_loss: 0.4483 - box_loss: 0.0051 - reg_l2_loss: 0.0707 - loss: 0.7723 - learning_rate: 2.1762e-04 - gradient_norm: 3.3188 - val_det_loss: 0.8049 - val_cls_loss: 0.4942 - val_box_loss: 0.0062 - val_reg_l2_loss: 0.0707 - val_loss: 0.8755\n",
            "Epoch 44/50\n",
            "4/4 [==============================] - 30s 8s/step - det_loss: 0.7082 - cls_loss: 0.4353 - box_loss: 0.0055 - reg_l2_loss: 0.0707 - loss: 0.7789 - learning_rate: 1.5702e-04 - gradient_norm: 3.6660 - val_det_loss: 0.8022 - val_cls_loss: 0.4956 - val_box_loss: 0.0061 - val_reg_l2_loss: 0.0707 - val_loss: 0.8729\n",
            "Epoch 45/50\n",
            "4/4 [==============================] - 40s 12s/step - det_loss: 0.7515 - cls_loss: 0.4799 - box_loss: 0.0054 - reg_l2_loss: 0.0707 - loss: 0.8222 - learning_rate: 1.0604e-04 - gradient_norm: 3.6962 - val_det_loss: 0.8013 - val_cls_loss: 0.4971 - val_box_loss: 0.0061 - val_reg_l2_loss: 0.0707 - val_loss: 0.8719\n",
            "Epoch 46/50\n",
            "4/4 [==============================] - 31s 9s/step - det_loss: 0.6985 - cls_loss: 0.4619 - box_loss: 0.0047 - reg_l2_loss: 0.0707 - loss: 0.7692 - learning_rate: 6.4901e-05 - gradient_norm: 2.6960 - val_det_loss: 0.7990 - val_cls_loss: 0.4972 - val_box_loss: 0.0060 - val_reg_l2_loss: 0.0707 - val_loss: 0.8697\n",
            "Epoch 47/50\n",
            "4/4 [==============================] - 29s 8s/step - det_loss: 0.7763 - cls_loss: 0.4743 - box_loss: 0.0060 - reg_l2_loss: 0.0707 - loss: 0.8470 - learning_rate: 3.3768e-05 - gradient_norm: 3.6436 - val_det_loss: 0.7954 - val_cls_loss: 0.4952 - val_box_loss: 0.0060 - val_reg_l2_loss: 0.0707 - val_loss: 0.8660\n",
            "Epoch 48/50\n",
            "4/4 [==============================] - 30s 9s/step - det_loss: 0.7667 - cls_loss: 0.5106 - box_loss: 0.0051 - reg_l2_loss: 0.0707 - loss: 0.8374 - learning_rate: 1.2769e-05 - gradient_norm: 3.5806 - val_det_loss: 0.7887 - val_cls_loss: 0.4918 - val_box_loss: 0.0059 - val_reg_l2_loss: 0.0707 - val_loss: 0.8594\n",
            "Epoch 49/50\n",
            "4/4 [==============================] - 25s 7s/step - det_loss: 0.6764 - cls_loss: 0.4353 - box_loss: 0.0048 - reg_l2_loss: 0.0707 - loss: 0.7470 - learning_rate: 1.9906e-06 - gradient_norm: 3.3057 - val_det_loss: 0.7826 - val_cls_loss: 0.4896 - val_box_loss: 0.0059 - val_reg_l2_loss: 0.0707 - val_loss: 0.8532\n",
            "Epoch 50/50\n",
            "4/4 [==============================] - 44s 13s/step - det_loss: 0.6997 - cls_loss: 0.4554 - box_loss: 0.0049 - reg_l2_loss: 0.0707 - loss: 0.7704 - learning_rate: 1.4770e-06 - gradient_norm: 2.6467 - val_det_loss: 0.7768 - val_cls_loss: 0.4866 - val_box_loss: 0.0058 - val_reg_l2_loss: 0.0707 - val_loss: 0.8474\n"
          ]
        }
      ]
    },
    {
      "cell_type": "markdown",
      "source": [
        "Evaluate the model with the validation data."
      ],
      "metadata": {
        "id": "0jBPl_0edSdk"
      }
    },
    {
      "cell_type": "code",
      "source": [
        "model.evaluate(val_data)"
      ],
      "metadata": {
        "colab": {
          "base_uri": "https://localhost:8080/"
        },
        "id": "8t-lUao1ZBVI",
        "outputId": "5f2740f9-29a6-4420-cab5-25490a25e27f"
      },
      "execution_count": 79,
      "outputs": [
        {
          "output_type": "stream",
          "name": "stdout",
          "text": [
            "\r1/1 [==============================] - 13s 13s/step\n",
            "\n"
          ]
        },
        {
          "output_type": "execute_result",
          "data": {
            "text/plain": [
              "{'AP': 0.44394204,\n",
              " 'AP50': 0.81317574,\n",
              " 'AP75': 0.5361504,\n",
              " 'APs': -1.0,\n",
              " 'APm': -1.0,\n",
              " 'APl': 0.4445492,\n",
              " 'ARmax1': 0.48142856,\n",
              " 'ARmax10': 0.54964286,\n",
              " 'ARmax100': 0.58178574,\n",
              " 'ARs': -1.0,\n",
              " 'ARm': -1.0,\n",
              " 'ARl': 0.58178574,\n",
              " 'AP_/Job': 0.24746603,\n",
              " 'AP_/Watch': 0.64041805}"
            ]
          },
          "metadata": {},
          "execution_count": 79
        }
      ]
    },
    {
      "cell_type": "markdown",
      "source": [
        "Export as a TensorFlow Lite model."
      ],
      "metadata": {
        "id": "-WPfMDM0dZmd"
      }
    },
    {
      "cell_type": "code",
      "source": [
        "\n",
        "model.export(export_dir='.', tflite_filename='job.tflite')"
      ],
      "metadata": {
        "id": "p5NM7zlGZBXv"
      },
      "execution_count": 80,
      "outputs": []
    },
    {
      "cell_type": "code",
      "source": [
        "model.evaluate_tflite('job.tflite', val_data)"
      ],
      "metadata": {
        "colab": {
          "base_uri": "https://localhost:8080/"
        },
        "id": "pLX7RF_VddTJ",
        "outputId": "b4eb1562-1ccd-4c14-80e8-6059d40ad102"
      },
      "execution_count": 81,
      "outputs": [
        {
          "output_type": "stream",
          "name": "stdout",
          "text": [
            "30/30 [==============================] - 197s 7s/step\n",
            "\n"
          ]
        },
        {
          "output_type": "execute_result",
          "data": {
            "text/plain": [
              "{'AP': 0.4216011,\n",
              " 'AP50': 0.8122712,\n",
              " 'AP75': 0.51952,\n",
              " 'APs': -1.0,\n",
              " 'APm': -1.0,\n",
              " 'APl': 0.42178828,\n",
              " 'ARmax1': 0.46464285,\n",
              " 'ARmax10': 0.5271429,\n",
              " 'ARmax100': 0.545,\n",
              " 'ARs': -1.0,\n",
              " 'ARm': -1.0,\n",
              " 'ARl': 0.545,\n",
              " 'AP_/Job': 0.25188202,\n",
              " 'AP_/Watch': 0.59132016}"
            ]
          },
          "metadata": {},
          "execution_count": 81
        }
      ]
    },
    {
      "cell_type": "code",
      "source": [
        "# Download the TFLite model to your local computer.\n",
        "from google.colab import files\n",
        "files.download('job.tflite')"
      ],
      "metadata": {
        "colab": {
          "base_uri": "https://localhost:8080/",
          "height": 17
        },
        "id": "nv9fiu4OddYi",
        "outputId": "8d54325f-3d38-47a2-aff2-f8947e933567"
      },
      "execution_count": 82,
      "outputs": [
        {
          "output_type": "display_data",
          "data": {
            "text/plain": [
              "<IPython.core.display.Javascript object>"
            ],
            "application/javascript": [
              "\n",
              "    async function download(id, filename, size) {\n",
              "      if (!google.colab.kernel.accessAllowed) {\n",
              "        return;\n",
              "      }\n",
              "      const div = document.createElement('div');\n",
              "      const label = document.createElement('label');\n",
              "      label.textContent = `Downloading \"${filename}\": `;\n",
              "      div.appendChild(label);\n",
              "      const progress = document.createElement('progress');\n",
              "      progress.max = size;\n",
              "      div.appendChild(progress);\n",
              "      document.body.appendChild(div);\n",
              "\n",
              "      const buffers = [];\n",
              "      let downloaded = 0;\n",
              "\n",
              "      const channel = await google.colab.kernel.comms.open(id);\n",
              "      // Send a message to notify the kernel that we're ready.\n",
              "      channel.send({})\n",
              "\n",
              "      for await (const message of channel.messages) {\n",
              "        // Send a message to notify the kernel that we're ready.\n",
              "        channel.send({})\n",
              "        if (message.buffers) {\n",
              "          for (const buffer of message.buffers) {\n",
              "            buffers.push(buffer);\n",
              "            downloaded += buffer.byteLength;\n",
              "            progress.value = downloaded;\n",
              "          }\n",
              "        }\n",
              "      }\n",
              "      const blob = new Blob(buffers, {type: 'application/binary'});\n",
              "      const a = document.createElement('a');\n",
              "      a.href = window.URL.createObjectURL(blob);\n",
              "      a.download = filename;\n",
              "      div.appendChild(a);\n",
              "      a.click();\n",
              "      div.remove();\n",
              "    }\n",
              "  "
            ]
          },
          "metadata": {}
        },
        {
          "output_type": "display_data",
          "data": {
            "text/plain": [
              "<IPython.core.display.Javascript object>"
            ],
            "application/javascript": [
              "download(\"download_e9929310-3d52-4d66-ab40-9990b13eb1dd\", \"job.tflite\", 5936404)"
            ]
          },
          "metadata": {}
        }
      ]
    },
    {
      "cell_type": "code",
      "source": [
        "#@title Load the trained TFLite model and define some visualization functions\n",
        "\n",
        "#@markdown This code comes from the TFLite Object Detection [Raspberry Pi sample](https://github.com/tensorflow/examples/tree/master/lite/examples/object_detection/raspberry_pi).\n",
        "\n",
        "import platform\n",
        "from typing import List, NamedTuple\n",
        "import json\n",
        "\n",
        "import cv2\n",
        "\n",
        "Interpreter = tf.lite.Interpreter\n",
        "load_delegate = tf.lite.experimental.load_delegate\n",
        "\n",
        "# pylint: enable=g-import-not-at-top\n",
        "\n",
        "\n",
        "class ObjectDetectorOptions(NamedTuple):\n",
        "  \"\"\"A config to initialize an object detector.\"\"\"\n",
        "\n",
        "  enable_edgetpu: bool = False\n",
        "  \"\"\"Enable the model to run on EdgeTPU.\"\"\"\n",
        "\n",
        "  label_allow_list: List[str] = None\n",
        "  \"\"\"The optional allow list of labels.\"\"\"\n",
        "\n",
        "  label_deny_list: List[str] = None\n",
        "  \"\"\"The optional deny list of labels.\"\"\"\n",
        "\n",
        "  max_results: int = -1\n",
        "  \"\"\"The maximum number of top-scored detection results to return.\"\"\"\n",
        "\n",
        "  num_threads: int = 1\n",
        "  \"\"\"The number of CPU threads to be used.\"\"\"\n",
        "\n",
        "  score_threshold: float = 0.0\n",
        "  \"\"\"The score threshold of detection results to return.\"\"\"\n",
        "\n",
        "\n",
        "class Rect(NamedTuple):\n",
        "  \"\"\"A rectangle in 2D space.\"\"\"\n",
        "  left: float\n",
        "  top: float\n",
        "  right: float\n",
        "  bottom: float\n",
        "\n",
        "\n",
        "class Category(NamedTuple):\n",
        "  \"\"\"A result of a classification task.\"\"\"\n",
        "  label: str\n",
        "  score: float\n",
        "  index: int\n",
        "\n",
        "\n",
        "class Detection(NamedTuple):\n",
        "  \"\"\"A detected object as the result of an ObjectDetector.\"\"\"\n",
        "  bounding_box: Rect\n",
        "  categories: List[Category]\n",
        "\n",
        "\n",
        "def edgetpu_lib_name():\n",
        "  \"\"\"Returns the library name of EdgeTPU in the current platform.\"\"\"\n",
        "  return {\n",
        "      'Darwin': 'libedgetpu.1.dylib',\n",
        "      'Linux': 'libedgetpu.so.1',\n",
        "      'Windows': 'edgetpu.dll',\n",
        "  }.get(platform.system(), None)\n",
        "\n",
        "\n",
        "class ObjectDetector:\n",
        "  \"\"\"A wrapper class for a TFLite object detection model.\"\"\"\n",
        "\n",
        "  _OUTPUT_LOCATION_NAME = 'location'\n",
        "  _OUTPUT_CATEGORY_NAME = 'category'\n",
        "  _OUTPUT_SCORE_NAME = 'score'\n",
        "  _OUTPUT_NUMBER_NAME = 'number of detections'\n",
        "\n",
        "  def __init__(\n",
        "      self,\n",
        "      model_path: str,\n",
        "      options: ObjectDetectorOptions = ObjectDetectorOptions()\n",
        "  ) -> None:\n",
        "    \"\"\"Initialize a TFLite object detection model.\n",
        "    Args:\n",
        "        model_path: Path to the TFLite model.\n",
        "        options: The config to initialize an object detector. (Optional)\n",
        "    Raises:\n",
        "        ValueError: If the TFLite model is invalid.\n",
        "        OSError: If the current OS isn't supported by EdgeTPU.\n",
        "    \"\"\"\n",
        "\n",
        "    # Load metadata from model.\n",
        "    displayer = metadata.MetadataDisplayer.with_model_file(model_path)\n",
        "\n",
        "    # Save model metadata for preprocessing later.\n",
        "    model_metadata = json.loads(displayer.get_metadata_json())\n",
        "    process_units = model_metadata['subgraph_metadata'][0]['input_tensor_metadata'][0]['process_units']\n",
        "    mean = 0.0\n",
        "    std = 1.0\n",
        "    for option in process_units:\n",
        "      if option['options_type'] == 'NormalizationOptions':\n",
        "        mean = option['options']['mean'][0]\n",
        "        std = option['options']['std'][0]\n",
        "    self._mean = mean\n",
        "    self._std = std\n",
        "\n",
        "    # Load label list from metadata.\n",
        "    file_name = displayer.get_packed_associated_file_list()[0]\n",
        "    label_map_file = displayer.get_associated_file_buffer(file_name).decode()\n",
        "    label_list = list(filter(lambda x: len(x) > 0, label_map_file.splitlines()))\n",
        "    self._label_list = label_list\n",
        "\n",
        "    # Initialize TFLite model.\n",
        "    if options.enable_edgetpu:\n",
        "      if edgetpu_lib_name() is None:\n",
        "        raise OSError(\"The current OS isn't supported by Coral EdgeTPU.\")\n",
        "      interpreter = Interpreter(\n",
        "          model_path=model_path,\n",
        "          experimental_delegates=[load_delegate(edgetpu_lib_name())],\n",
        "          num_threads=options.num_threads)\n",
        "    else:\n",
        "      interpreter = Interpreter(\n",
        "          model_path=model_path, num_threads=options.num_threads)\n",
        "\n",
        "    interpreter.allocate_tensors()\n",
        "    input_detail = interpreter.get_input_details()[0]\n",
        "\n",
        "    # From TensorFlow 2.6, the order of the outputs become undefined.\n",
        "    # Therefore we need to sort the tensor indices of TFLite outputs and to know\n",
        "    # exactly the meaning of each output tensor. For example, if\n",
        "    # output indices are [601, 599, 598, 600], tensor names and indices aligned\n",
        "    # are:\n",
        "    #   - location: 598\n",
        "    #   - category: 599\n",
        "    #   - score: 600\n",
        "    #   - detection_count: 601\n",
        "    # because of the op's ports of TFLITE_DETECTION_POST_PROCESS\n",
        "    # (https://github.com/tensorflow/tensorflow/blob/a4fe268ea084e7d323133ed7b986e0ae259a2bc7/tensorflow/lite/kernels/detection_postprocess.cc#L47-L50).\n",
        "    sorted_output_indices = sorted(\n",
        "        [output['index'] for output in interpreter.get_output_details()])\n",
        "    self._output_indices = {\n",
        "        self._OUTPUT_LOCATION_NAME: sorted_output_indices[0],\n",
        "        self._OUTPUT_CATEGORY_NAME: sorted_output_indices[1],\n",
        "        self._OUTPUT_SCORE_NAME: sorted_output_indices[2],\n",
        "        self._OUTPUT_NUMBER_NAME: sorted_output_indices[3],\n",
        "    }\n",
        "\n",
        "    self._input_size = input_detail['shape'][2], input_detail['shape'][1]\n",
        "    self._is_quantized_input = input_detail['dtype'] == np.uint8\n",
        "    self._interpreter = interpreter\n",
        "    self._options = options\n",
        "\n",
        "  def detect(self, input_image: np.ndarray) -> List[Detection]:\n",
        "    \"\"\"Run detection on an input image.\n",
        "    Args:\n",
        "        input_image: A [height, width, 3] RGB image. Note that height and width\n",
        "          can be anything since the image will be immediately resized according\n",
        "          to the needs of the model within this function.\n",
        "    Returns:\n",
        "        A Person instance.\n",
        "    \"\"\"\n",
        "    image_height, image_width, _ = input_image.shape\n",
        "\n",
        "    input_tensor = self._preprocess(input_image)\n",
        "\n",
        "    self._set_input_tensor(input_tensor)\n",
        "    self._interpreter.invoke()\n",
        "\n",
        "    # Get all output details\n",
        "    boxes = self._get_output_tensor(self._OUTPUT_LOCATION_NAME)\n",
        "    classes = self._get_output_tensor(self._OUTPUT_CATEGORY_NAME)\n",
        "    scores = self._get_output_tensor(self._OUTPUT_SCORE_NAME)\n",
        "    count = int(self._get_output_tensor(self._OUTPUT_NUMBER_NAME))\n",
        "\n",
        "    return self._postprocess(boxes, classes, scores, count, image_width,\n",
        "                             image_height)\n",
        "\n",
        "  def _preprocess(self, input_image: np.ndarray) -> np.ndarray:\n",
        "    \"\"\"Preprocess the input image as required by the TFLite model.\"\"\"\n",
        "\n",
        "    # Resize the input\n",
        "    input_tensor = cv2.resize(input_image, self._input_size)\n",
        "\n",
        "    # Normalize the input if it's a float model (aka. not quantized)\n",
        "    if not self._is_quantized_input:\n",
        "      input_tensor = (np.float32(input_tensor) - self._mean) / self._std\n",
        "\n",
        "    # Add batch dimension\n",
        "    input_tensor = np.expand_dims(input_tensor, axis=0)\n",
        "\n",
        "    return input_tensor\n",
        "\n",
        "  def _set_input_tensor(self, image):\n",
        "    \"\"\"Sets the input tensor.\"\"\"\n",
        "    tensor_index = self._interpreter.get_input_details()[0]['index']\n",
        "    input_tensor = self._interpreter.tensor(tensor_index)()[0]\n",
        "    input_tensor[:, :] = image\n",
        "\n",
        "  def _get_output_tensor(self, name):\n",
        "    \"\"\"Returns the output tensor at the given index.\"\"\"\n",
        "    output_index = self._output_indices[name]\n",
        "    tensor = np.squeeze(self._interpreter.get_tensor(output_index))\n",
        "    return tensor\n",
        "\n",
        "  def _postprocess(self, boxes: np.ndarray, classes: np.ndarray,\n",
        "                   scores: np.ndarray, count: int, image_width: int,\n",
        "                   image_height: int) -> List[Detection]:\n",
        "    \"\"\"Post-process the output of TFLite model into a list of Detection objects.\n",
        "    Args:\n",
        "        boxes: Bounding boxes of detected objects from the TFLite model.\n",
        "        classes: Class index of the detected objects from the TFLite model.\n",
        "        scores: Confidence scores of the detected objects from the TFLite model.\n",
        "        count: Number of detected objects from the TFLite model.\n",
        "        image_width: Width of the input image.\n",
        "        image_height: Height of the input image.\n",
        "    Returns:\n",
        "        A list of Detection objects detected by the TFLite model.\n",
        "    \"\"\"\n",
        "    results = []\n",
        "\n",
        "    # Parse the model output into a list of Detection entities.\n",
        "    for i in range(count):\n",
        "      if scores[i] >= self._options.score_threshold:\n",
        "        y_min, x_min, y_max, x_max = boxes[i]\n",
        "        bounding_box = Rect(\n",
        "            top=int(y_min * image_height),\n",
        "            left=int(x_min * image_width),\n",
        "            bottom=int(y_max * image_height),\n",
        "            right=int(x_max * image_width))\n",
        "        class_id = int(classes[i])\n",
        "        category = Category(\n",
        "            score=scores[i],\n",
        "            label=self._label_list[class_id],  # 0 is reserved for background\n",
        "            index=class_id)\n",
        "        result = Detection(bounding_box=bounding_box, categories=[category])\n",
        "        results.append(result)\n",
        "\n",
        "    # Sort detection results by score ascending\n",
        "    sorted_results = sorted(\n",
        "        results,\n",
        "        key=lambda detection: detection.categories[0].score,\n",
        "        reverse=True)\n",
        "\n",
        "    # Filter out detections in deny list\n",
        "    filtered_results = sorted_results\n",
        "    if self._options.label_deny_list is not None:\n",
        "      filtered_results = list(\n",
        "          filter(\n",
        "              lambda detection: detection.categories[0].label not in self.\n",
        "              _options.label_deny_list, filtered_results))\n",
        "\n",
        "    # Keep only detections in allow list\n",
        "    if self._options.label_allow_list is not None:\n",
        "      filtered_results = list(\n",
        "          filter(\n",
        "              lambda detection: detection.categories[0].label in self._options.\n",
        "              label_allow_list, filtered_results))\n",
        "\n",
        "    # Only return maximum of max_results detection.\n",
        "    if self._options.max_results > 0:\n",
        "      result_count = min(len(filtered_results), self._options.max_results)\n",
        "      filtered_results = filtered_results[:result_count]\n",
        "\n",
        "    return filtered_results\n",
        "\n",
        "\n",
        "_MARGIN = 10  # pixels\n",
        "_ROW_SIZE = 10  # pixels\n",
        "_FONT_SIZE = 1\n",
        "_FONT_THICKNESS = 1\n",
        "_TEXT_COLOR = (0, 0, 255)  # red\n",
        "\n",
        "\n",
        "def visualize(\n",
        "    image: np.ndarray,\n",
        "    detections: List[Detection],\n",
        ") -> np.ndarray:\n",
        "  \"\"\"Draws bounding boxes on the input image and return it.\n",
        "  Args:\n",
        "    image: The input RGB image.\n",
        "    detections: The list of all \"Detection\" entities to be visualize.\n",
        "  Returns:\n",
        "    Image with bounding boxes.\n",
        "  \"\"\"\n",
        "  for detection in detections:\n",
        "    # Draw bounding_box\n",
        "    start_point = detection.bounding_box.left, detection.bounding_box.top\n",
        "    end_point = detection.bounding_box.right, detection.bounding_box.bottom\n",
        "    cv2.rectangle(image, start_point, end_point, _TEXT_COLOR, 3)\n",
        "\n",
        "    # Draw label and score\n",
        "    category = detection.categories[0]\n",
        "    class_name = category.label\n",
        "    probability = round(category.score, 2)\n",
        "    result_text = class_name + ' (' + str(probability) + ')'\n",
        "    text_location = (_MARGIN + detection.bounding_box.left,\n",
        "                     _MARGIN + _ROW_SIZE + detection.bounding_box.top)\n",
        "    cv2.putText(image, result_text, text_location, cv2.FONT_HERSHEY_PLAIN,\n",
        "                _FONT_SIZE, _TEXT_COLOR, _FONT_THICKNESS)\n",
        "\n",
        "  return image"
      ],
      "metadata": {
        "cellView": "form",
        "id": "lTYrLlly-Ip_"
      },
      "execution_count": 31,
      "outputs": []
    },
    {
      "cell_type": "code",
      "source": [
        "#@title Run object detection and show the detection results\n",
        "\n",
        "from PIL import Image\n",
        "\n",
        "#http://download.tensorflow.org/example_images/android_figurine.jpg\n",
        "\n",
        "\n",
        "INPUT_IMAGE_URL = \"https://m.media-amazon.com/images/I/81nC4u9eYfL._UY445_.jpg\" #@param {type:\"string\"}\n",
        "DETECTION_THRESHOLD = 0.12 #@param {type:\"number\"}\n",
        "TFLITE_MODEL_PATH = \"job.tflite\" #@param {type:\"string\"}\n",
        "\n",
        "TEMP_FILE = '/tmp/image.png'\n",
        "\n",
        "!wget -q -O $TEMP_FILE $INPUT_IMAGE_URL\n",
        "image = Image.open(TEMP_FILE).convert('RGB')\n",
        "image.thumbnail((512, 512), Image.ANTIALIAS)\n",
        "image_np = np.asarray(image)\n",
        "\n",
        "# Load the TFLite model\n",
        "options = ObjectDetectorOptions(\n",
        "    num_threads=4,\n",
        "    score_threshold=DETECTION_THRESHOLD,\n",
        ")\n",
        "detector = ObjectDetector(model_path=TFLITE_MODEL_PATH, options=options)\n",
        "\n",
        "# Run object detection estimation using the model.\n",
        "detections = detector.detect(image_np)\n",
        "\n",
        "# Draw keypoints and edges on input image\n",
        "image_np = visualize(image_np, detections)\n",
        "print(len(detections))\n",
        "# Show the detection result\n",
        "Image.fromarray(image_np)\n",
        "\n"
      ],
      "metadata": {
        "colab": {
          "base_uri": "https://localhost:8080/",
          "height": 479
        },
        "id": "LGQbpnn4ddbw",
        "outputId": "7e9ceba9-5a4e-45e6-f3c5-00adbc10c9a0"
      },
      "execution_count": 78,
      "outputs": [
        {
          "output_type": "stream",
          "name": "stdout",
          "text": [
            "1\n"
          ]
        },
        {
          "output_type": "execute_result",
          "data": {
            "text/plain": [
              "<PIL.Image.Image image mode=RGB size=298x445 at 0x7FD1BE3D1210>"
            ],
            "image/png": "[encoded data removed]"
          },
          "metadata": {},
          "execution_count": 78
        }
      ]
    }
  ]
}